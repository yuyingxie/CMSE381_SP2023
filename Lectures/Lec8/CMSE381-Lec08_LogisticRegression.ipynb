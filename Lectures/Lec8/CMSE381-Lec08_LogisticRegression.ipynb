{
 "cells": [
  {
   "cell_type": "markdown",
   "id": "4dfd68f5",
   "metadata": {},
   "source": [
    "# Lab: Classification\n",
    "## CMSE 381 - Spring 2023\n",
    "## Jan 27, 2023\n",
    "\n"
   ]
  },
  {
   "cell_type": "markdown",
   "id": "c90aa0b0",
   "metadata": {},
   "source": [
    "In this module we are going to test out the classification methods we discussed in class "
   ]
  },
  {
   "cell_type": "markdown",
   "id": "c253cdcc",
   "metadata": {},
   "source": [
    "## Getting a feel for the data\n",
    "\n",
    "We're going to use the `Smarket` data set from the ISLR book as included in their R package.  I've included a csv with this notebook for you to use. \n",
    "\n",
    "This data set consists of percentage returns for the S&P 500 stock index over 1,250 days, from the beginning of 2001 until the end of 2005. For each date, we have recorded the percentage returns for each of the five previous trading days, `Lag1` through `Lag5`. We have also recorded `Volume` (the number of shares traded on the previous day, in billions), `Today` (the percentage return on the date in question) and `Direction` (whether the market was `Up` or `Down` on this date). Our goal is to predict `Direction` (a qualitative response) using the other features."
   ]
  },
  {
   "cell_type": "code",
   "execution_count": 2,
   "id": "3f2bdd6f",
   "metadata": {},
   "outputs": [],
   "source": [
    "import numpy as np \n",
    "import matplotlib.pyplot as plt\n",
    "import pandas as pd \n",
    "%matplotlib inline\n",
    "import seaborn as sns"
   ]
  },
  {
   "cell_type": "code",
   "execution_count": 3,
   "id": "03dc3495",
   "metadata": {},
   "outputs": [],
   "source": [
    "smarket = pd.read_csv('Smarket.csv', index_col = 0)"
   ]
  },
  {
   "cell_type": "code",
   "execution_count": 4,
   "id": "ec81e289",
   "metadata": {},
   "outputs": [
    {
     "data": {
      "text/html": [
       "<div>\n",
       "<style scoped>\n",
       "    .dataframe tbody tr th:only-of-type {\n",
       "        vertical-align: middle;\n",
       "    }\n",
       "\n",
       "    .dataframe tbody tr th {\n",
       "        vertical-align: top;\n",
       "    }\n",
       "\n",
       "    .dataframe thead th {\n",
       "        text-align: right;\n",
       "    }\n",
       "</style>\n",
       "<table border=\"1\" class=\"dataframe\">\n",
       "  <thead>\n",
       "    <tr style=\"text-align: right;\">\n",
       "      <th></th>\n",
       "      <th>Year</th>\n",
       "      <th>Lag1</th>\n",
       "      <th>Lag2</th>\n",
       "      <th>Lag3</th>\n",
       "      <th>Lag4</th>\n",
       "      <th>Lag5</th>\n",
       "      <th>Volume</th>\n",
       "      <th>Today</th>\n",
       "      <th>Direction</th>\n",
       "    </tr>\n",
       "  </thead>\n",
       "  <tbody>\n",
       "    <tr>\n",
       "      <th>1</th>\n",
       "      <td>2001</td>\n",
       "      <td>0.381</td>\n",
       "      <td>-0.192</td>\n",
       "      <td>-2.624</td>\n",
       "      <td>-1.055</td>\n",
       "      <td>5.010</td>\n",
       "      <td>1.19130</td>\n",
       "      <td>0.959</td>\n",
       "      <td>Up</td>\n",
       "    </tr>\n",
       "    <tr>\n",
       "      <th>2</th>\n",
       "      <td>2001</td>\n",
       "      <td>0.959</td>\n",
       "      <td>0.381</td>\n",
       "      <td>-0.192</td>\n",
       "      <td>-2.624</td>\n",
       "      <td>-1.055</td>\n",
       "      <td>1.29650</td>\n",
       "      <td>1.032</td>\n",
       "      <td>Up</td>\n",
       "    </tr>\n",
       "    <tr>\n",
       "      <th>3</th>\n",
       "      <td>2001</td>\n",
       "      <td>1.032</td>\n",
       "      <td>0.959</td>\n",
       "      <td>0.381</td>\n",
       "      <td>-0.192</td>\n",
       "      <td>-2.624</td>\n",
       "      <td>1.41120</td>\n",
       "      <td>-0.623</td>\n",
       "      <td>Down</td>\n",
       "    </tr>\n",
       "    <tr>\n",
       "      <th>4</th>\n",
       "      <td>2001</td>\n",
       "      <td>-0.623</td>\n",
       "      <td>1.032</td>\n",
       "      <td>0.959</td>\n",
       "      <td>0.381</td>\n",
       "      <td>-0.192</td>\n",
       "      <td>1.27600</td>\n",
       "      <td>0.614</td>\n",
       "      <td>Up</td>\n",
       "    </tr>\n",
       "    <tr>\n",
       "      <th>5</th>\n",
       "      <td>2001</td>\n",
       "      <td>0.614</td>\n",
       "      <td>-0.623</td>\n",
       "      <td>1.032</td>\n",
       "      <td>0.959</td>\n",
       "      <td>0.381</td>\n",
       "      <td>1.20570</td>\n",
       "      <td>0.213</td>\n",
       "      <td>Up</td>\n",
       "    </tr>\n",
       "    <tr>\n",
       "      <th>...</th>\n",
       "      <td>...</td>\n",
       "      <td>...</td>\n",
       "      <td>...</td>\n",
       "      <td>...</td>\n",
       "      <td>...</td>\n",
       "      <td>...</td>\n",
       "      <td>...</td>\n",
       "      <td>...</td>\n",
       "      <td>...</td>\n",
       "    </tr>\n",
       "    <tr>\n",
       "      <th>1246</th>\n",
       "      <td>2005</td>\n",
       "      <td>0.422</td>\n",
       "      <td>0.252</td>\n",
       "      <td>-0.024</td>\n",
       "      <td>-0.584</td>\n",
       "      <td>-0.285</td>\n",
       "      <td>1.88850</td>\n",
       "      <td>0.043</td>\n",
       "      <td>Up</td>\n",
       "    </tr>\n",
       "    <tr>\n",
       "      <th>1247</th>\n",
       "      <td>2005</td>\n",
       "      <td>0.043</td>\n",
       "      <td>0.422</td>\n",
       "      <td>0.252</td>\n",
       "      <td>-0.024</td>\n",
       "      <td>-0.584</td>\n",
       "      <td>1.28581</td>\n",
       "      <td>-0.955</td>\n",
       "      <td>Down</td>\n",
       "    </tr>\n",
       "    <tr>\n",
       "      <th>1248</th>\n",
       "      <td>2005</td>\n",
       "      <td>-0.955</td>\n",
       "      <td>0.043</td>\n",
       "      <td>0.422</td>\n",
       "      <td>0.252</td>\n",
       "      <td>-0.024</td>\n",
       "      <td>1.54047</td>\n",
       "      <td>0.130</td>\n",
       "      <td>Up</td>\n",
       "    </tr>\n",
       "    <tr>\n",
       "      <th>1249</th>\n",
       "      <td>2005</td>\n",
       "      <td>0.130</td>\n",
       "      <td>-0.955</td>\n",
       "      <td>0.043</td>\n",
       "      <td>0.422</td>\n",
       "      <td>0.252</td>\n",
       "      <td>1.42236</td>\n",
       "      <td>-0.298</td>\n",
       "      <td>Down</td>\n",
       "    </tr>\n",
       "    <tr>\n",
       "      <th>1250</th>\n",
       "      <td>2005</td>\n",
       "      <td>-0.298</td>\n",
       "      <td>0.130</td>\n",
       "      <td>-0.955</td>\n",
       "      <td>0.043</td>\n",
       "      <td>0.422</td>\n",
       "      <td>1.38254</td>\n",
       "      <td>-0.489</td>\n",
       "      <td>Down</td>\n",
       "    </tr>\n",
       "  </tbody>\n",
       "</table>\n",
       "<p>1250 rows × 9 columns</p>\n",
       "</div>"
      ],
      "text/plain": [
       "      Year   Lag1   Lag2   Lag3   Lag4   Lag5   Volume  Today Direction\n",
       "1     2001  0.381 -0.192 -2.624 -1.055  5.010  1.19130  0.959        Up\n",
       "2     2001  0.959  0.381 -0.192 -2.624 -1.055  1.29650  1.032        Up\n",
       "3     2001  1.032  0.959  0.381 -0.192 -2.624  1.41120 -0.623      Down\n",
       "4     2001 -0.623  1.032  0.959  0.381 -0.192  1.27600  0.614        Up\n",
       "5     2001  0.614 -0.623  1.032  0.959  0.381  1.20570  0.213        Up\n",
       "...    ...    ...    ...    ...    ...    ...      ...    ...       ...\n",
       "1246  2005  0.422  0.252 -0.024 -0.584 -0.285  1.88850  0.043        Up\n",
       "1247  2005  0.043  0.422  0.252 -0.024 -0.584  1.28581 -0.955      Down\n",
       "1248  2005 -0.955  0.043  0.422  0.252 -0.024  1.54047  0.130        Up\n",
       "1249  2005  0.130 -0.955  0.043  0.422  0.252  1.42236 -0.298      Down\n",
       "1250  2005 -0.298  0.130 -0.955  0.043  0.422  1.38254 -0.489      Down\n",
       "\n",
       "[1250 rows x 9 columns]"
      ]
     },
     "execution_count": 4,
     "metadata": {},
     "output_type": "execute_result"
    }
   ],
   "source": [
    "smarket"
   ]
  },
  {
   "cell_type": "markdown",
   "id": "bf83d0a4",
   "metadata": {},
   "source": [
    "Note that the `Year` column only has the year information.  In the case of this data, the sorted order tracks the days, so be sure to not accidentally shuffle it! "
   ]
  },
  {
   "cell_type": "markdown",
   "id": "1ade0807",
   "metadata": {},
   "source": [
    "&#9989; **<font color=red>Do this:</font>** Write a brief description of the data set. Which of the available variables are quantitative? Which are categorical? Draw some plots of the data and get a feel for what the columns mean. "
   ]
  },
  {
   "cell_type": "code",
   "execution_count": null,
   "id": "dfb1c297",
   "metadata": {},
   "outputs": [],
   "source": [
    "# Your code here #"
   ]
  },
  {
   "cell_type": "markdown",
   "id": "909035f7",
   "metadata": {},
   "source": [
    "&#9989; **<font color=red>Do this:</font>** Take a look at the correlation matrix, which can be found with `dataframe.corr()`. Does it include all of the variables in the data set? What do you notice about the correlations?\n",
    "\n",
    "*Hint: A great way to see what's going on with a matrix is to use the `plt.matshow` command.*"
   ]
  },
  {
   "cell_type": "code",
   "execution_count": null,
   "id": "17f7a4ff",
   "metadata": {},
   "outputs": [],
   "source": [
    "# Your code here #"
   ]
  },
  {
   "cell_type": "markdown",
   "id": "0cecd0c6",
   "metadata": {},
   "source": [
    "&#9989; **<font color=red>Q:</font>** Do some further investigation on the high correlation value you saw in the previous step. Can you justify why that particular pair of variables has a high correlation? "
   ]
  },
  {
   "cell_type": "markdown",
   "id": "2b391bca",
   "metadata": {},
   "source": [
    "## Classification using Logistic Regression\n",
    "\n",
    "Our goal is to predict `Direction`, a categorical variable taking as values the strings `Up` and `Down`.\n",
    "\n",
    "\n",
    "For this module, we will largely use the tools from `sklearn`  for classification. One of the big perks of the `sklearn` module is that there is a great deal of uniformity in the classes. So once we have a handle on how to interact with one kind of classification tool, very minor tweaks in the code will allow for the use of a new model. In fact, many of the things we'll do today should look very similar in terms of the syntax to the linear regression lab from a few weeks ago. \n",
    "\n",
    "For our first try doing classification, we'll use `LogisticRegression` from the `sklearn.linear_model` module. I'm a huge fan of the `sklean` documentaiton since it includes a great deal of info on the math behind what we're doing as well as explanations on the code:\n",
    "- [`sklearn` mathematical description of logistic regression](https://scikit-learn.org/stable/modules/linear_model.html#logistic-regression)\n",
    "- [`LogisticRegression` class documentation](https://scikit-learn.org/stable/modules/generated/sklearn.linear_model.LogisticRegression.html#sklearn.linear_model.LogisticRegression)"
   ]
  },
  {
   "cell_type": "code",
   "execution_count": null,
   "id": "923edb3a",
   "metadata": {},
   "outputs": [],
   "source": [
    "from sklearn.linear_model import LogisticRegression "
   ]
  },
  {
   "cell_type": "markdown",
   "id": "b494ee2c",
   "metadata": {},
   "source": [
    "Lets first predict `Direction` using `Lag1`,`Lag2` and `Volume`. \n",
    "Our first job is to extract the portion of the dataframe that we want to use. `sklearn` is happiest when we hand it an array. "
   ]
  },
  {
   "cell_type": "code",
   "execution_count": null,
   "id": "b6b8ebaf",
   "metadata": {},
   "outputs": [],
   "source": [
    "X = np.array(smarket[['Lag1','Lag2','Volume']])\n",
    "Y = np.array(smarket.Direction)"
   ]
  },
  {
   "cell_type": "code",
   "execution_count": null,
   "id": "0630d99f",
   "metadata": {},
   "outputs": [],
   "source": [
    "print(X.shape)\n",
    "print(Y.shape)"
   ]
  },
  {
   "cell_type": "markdown",
   "id": "3b63310e",
   "metadata": {},
   "source": [
    "Once we have our data, we create an instance of the model class we want, in this case `LogisticRegression`, and fit the model to the data. Note the `random_state=0` code ensures that rerunning the following box will return the same answer every time. "
   ]
  },
  {
   "cell_type": "code",
   "execution_count": null,
   "id": "b8dadcd6",
   "metadata": {},
   "outputs": [],
   "source": [
    "clf = LogisticRegression(random_state=0)\n",
    "clf.fit(X,Y)\n"
   ]
  },
  {
   "cell_type": "markdown",
   "id": "0a40abc2",
   "metadata": {},
   "source": [
    "Great, that was easy! Once we've fit the model, the main task is to understand how to extract information from it. "
   ]
  },
  {
   "cell_type": "markdown",
   "id": "1dd18b19",
   "metadata": {},
   "source": [
    "&#9989; **<font color=red>Do this:</font>** Extract the coefficients and intercept from the trained model. *(Note: You might need to take a look at the documentation to figure out how to do that.)* What is the equation, in terms of the variables used, that you are modeling? "
   ]
  },
  {
   "cell_type": "code",
   "execution_count": null,
   "id": "e293131a",
   "metadata": {},
   "outputs": [],
   "source": [
    "# Your code here"
   ]
  },
  {
   "cell_type": "markdown",
   "id": "4bf95d09",
   "metadata": {},
   "source": [
    "While it's good to know what equation we're modeling with, the big perk here is that your `sklearn` class will evaluate the data points of your model for you. Yay!\n",
    "\n",
    "&#9989; **<font color=red>Do this:</font>** Use the `predict_proba` function to determine the probabilities $Pr(Y = \\texttt{Down} \\mid X)$ for the data set. What shape is the output matrix? Why that shape? What do the columns represent?"
   ]
  },
  {
   "cell_type": "code",
   "execution_count": null,
   "id": "14f1a601",
   "metadata": {},
   "outputs": [],
   "source": [
    "# Your code here"
   ]
  },
  {
   "cell_type": "markdown",
   "id": "922f9129",
   "metadata": {},
   "source": [
    "Of course this gives us the probability of each each label for a given data, but we really would like to have the prediction itself. \n",
    "\n",
    "\n",
    "&#9989; **<font color=red>Do this:</font>** Use the `predict` function to determine the predictions for each input data point in the original $X$ matrix and store the output as `Yhat`. How many predictions are different than the actual `Direction` value? Whats the percent error for the model?"
   ]
  },
  {
   "cell_type": "code",
   "execution_count": null,
   "id": "0741373a",
   "metadata": {},
   "outputs": [],
   "source": [
    "# Your code here"
   ]
  },
  {
   "cell_type": "markdown",
   "id": "2afa3866",
   "metadata": {},
   "source": [
    "\n",
    "&#9989; **<font color=red>Do this:</font>** An even easier way of figuring out the error rate is through the score. What does the output of `clf.score(X,Y)` mean and how is it related to the number you determined above?"
   ]
  },
  {
   "cell_type": "code",
   "execution_count": null,
   "id": "096ff7c4",
   "metadata": {},
   "outputs": [],
   "source": [
    "# Your code here"
   ]
  },
  {
   "cell_type": "markdown",
   "id": "2f55bd87",
   "metadata": {},
   "source": [
    "**Confusion matrix**\n",
    "\n",
    "As we saw in class, the percent error is a rather limited way of evaluating the classification model. Luckily `sklearn` provides commands for computing the confusion matrix for a given model easily. The `confusion_matrix` command computes the confusion matrix, and `ConfusionMatrixDisplay` gives a nice visual representation. "
   ]
  },
  {
   "cell_type": "code",
   "execution_count": null,
   "id": "7faba165",
   "metadata": {},
   "outputs": [],
   "source": [
    "from sklearn.metrics import confusion_matrix, ConfusionMatrixDisplay\n"
   ]
  },
  {
   "cell_type": "code",
   "execution_count": null,
   "id": "36ce56fe",
   "metadata": {},
   "outputs": [],
   "source": [
    "# This code gives the confusion matrix, assuming you stored the predicted values as `Yhat`.\n",
    "C = confusion_matrix(Y,Yhat)\n",
    "\n",
    "C"
   ]
  },
  {
   "cell_type": "code",
   "execution_count": null,
   "id": "0b132a97",
   "metadata": {
    "scrolled": true
   },
   "outputs": [],
   "source": [
    "# This code gives a visual representation \n",
    "ConfusionMatrixDisplay(C).plot()\n"
   ]
  },
  {
   "cell_type": "markdown",
   "id": "6cb55979",
   "metadata": {},
   "source": [
    "\n",
    "&#9989; **<font color=red>Q:</font>** The makers of `sklearn` made a PARTICULARY strange choice when it comes to the confusion matrix representation.  What is different about the `sklearn` confusion matrix from how we saw it in class?"
   ]
  },
  {
   "cell_type": "markdown",
   "id": "aadb635b",
   "metadata": {},
   "source": [
    "*Your answer here*"
   ]
  },
  {
   "cell_type": "markdown",
   "id": "66f79113",
   "metadata": {},
   "source": [
    "\n",
    "\n",
    "-----\n",
    "### Congratulations, we're done!\n",
    "\n",
    "\n",
    "<a rel=\"license\" href=\"http://creativecommons.org/licenses/by-nc/4.0/\"><img alt=\"Creative Commons License\" style=\"border-width:0\" src=\"https://i.creativecommons.org/l/by-nc/4.0/88x31.png\" /></a><br />This work is licensed under a <a rel=\"license\" href=\"http://creativecommons.org/licenses/by-nc/4.0/\">Creative Commons Attribution-NonCommercial 4.0 International License</a>."
   ]
  },
  {
   "cell_type": "markdown",
   "id": "1877d319",
   "metadata": {},
   "source": []
  },
  {
   "cell_type": "code",
   "execution_count": null,
   "id": "3fb8354f",
   "metadata": {},
   "outputs": [],
   "source": []
  }
 ],
 "metadata": {
  "kernelspec": {
   "display_name": "Python 3 (ipykernel)",
   "language": "python",
   "name": "python3"
  },
  "language_info": {
   "codemirror_mode": {
    "name": "ipython",
    "version": 3
   },
   "file_extension": ".py",
   "mimetype": "text/x-python",
   "name": "python",
   "nbconvert_exporter": "python",
   "pygments_lexer": "ipython3",
   "version": "3.8.8"
  }
 },
 "nbformat": 4,
 "nbformat_minor": 5
}
