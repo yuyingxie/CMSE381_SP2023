{
 "cells": [
  {
   "cell_type": "markdown",
   "metadata": {},
   "source": [
    "# Lab: Python Review\n",
    "## CMSE 381 - Spring 2023\n",
    "## Lecture 1\n",
    "\n",
    "In today's assignment, we are going to go over some of the python commands you've (hopefully!) seen before.  \n",
    "In order to successfully complete this assignment you need to participate both individually and in groups during class. \n",
    "\n",
    "\n",
    "**<font color=red>IMPORTANT:</font>** If you are  looking at this notebook prior to class with the intention of doing it early PLEASE DON'T! The intention of these notebooks is for group work in class, so it will be much more interesting if you don't have it done already and can talk with the rest of the group members. \n",
    "\n"
   ]
  },
  {
   "cell_type": "markdown",
   "metadata": {},
   "source": [
    "# 1. The Dataset\n",
    "\n",
    "In this module, we will be using the `Auto.csv` data set.  This is included in R from the ISLR2 package, but I've included a converted version for python on D2L. Be sure to download that file and save it in the same folder as this notebook. "
   ]
  },
  {
   "cell_type": "markdown",
   "metadata": {},
   "source": [
    "## Info about the data set \n",
    "\n",
    "From https://rdrr.io/cran/ISLR/man/Auto.html\n",
    "\n",
    "### Auto: Auto Data Set\n",
    "\n",
    "\n",
    "**Description**\n",
    "\n",
    "Gas mileage, horsepower, and other information for 392 vehicles.\n",
    "Usage\n",
    "\n",
    "\n",
    "**Format**\n",
    "\n",
    "A data frame with 392 observations on the following 9 variables.\n",
    "\n",
    "- `mpg`: miles per gallon\n",
    "- `cylinders`: Number of cylinders between 4 and 8\n",
    "- `displacement`: Engine displacement (cu. inches)\n",
    "- `horsepower`: Engine horsepower\n",
    "- `weight`: Vehicle weight (lbs.)\n",
    "- `acceleration`: Time to accelerate from 0 to 60 mph (sec.)\n",
    "- `year`: Model year (modulo 100)\n",
    "- `origin`: Origin of car (1. American, 2. European, 3. Japanese)\n",
    "- `name`: Vehicle name\n",
    "\n",
    "The orginal data contained 408 observations but 16 observations with missing values were removed.\n",
    "\n",
    "**Source**\n",
    "\n",
    "This dataset was taken from the StatLib library which is maintained at Carnegie Mellon University. The dataset was used in the 1983 American Statistical Association Exposition. "
   ]
  },
  {
   "cell_type": "markdown",
   "metadata": {},
   "source": [
    "&#9989; **<font color=red>Q:</font>** Which of these variables are quantitative? Which are categorical?"
   ]
  },
  {
   "cell_type": "markdown",
   "metadata": {},
   "source": [
    "*Your answer here*"
   ]
  },
  {
   "cell_type": "markdown",
   "metadata": {},
   "source": [
    "----\n",
    "<a name=\"Basic\"></a>\n",
    "# 2. Load the data set \n",
    "\n",
    "\n"
   ]
  },
  {
   "cell_type": "code",
   "execution_count": null,
   "metadata": {},
   "outputs": [],
   "source": [
    "# As always, we start with our favorite standard imports. \n",
    "\n",
    "import numpy as np\n",
    "import pandas as pd\n",
    "import matplotlib.pyplot as plt \n",
    "%matplotlib inline"
   ]
  },
  {
   "cell_type": "markdown",
   "metadata": {},
   "source": [
    "First, load in your csv file as a pandas data frame. Save this data frame as `auto`."
   ]
  },
  {
   "cell_type": "code",
   "execution_count": null,
   "metadata": {},
   "outputs": [],
   "source": [
    "#---- your code goes in here! ---#"
   ]
  },
  {
   "cell_type": "markdown",
   "metadata": {},
   "source": [
    "If that worked and you managed to load the file, the following command should show you the top of your data frame. "
   ]
  },
  {
   "cell_type": "code",
   "execution_count": null,
   "metadata": {
    "scrolled": true
   },
   "outputs": [],
   "source": [
    "auto.head()"
   ]
  },
  {
   "cell_type": "markdown",
   "metadata": {},
   "source": [
    "...and the following command show show you the column labels"
   ]
  },
  {
   "cell_type": "code",
   "execution_count": null,
   "metadata": {},
   "outputs": [],
   "source": [
    "auto.columns"
   ]
  },
  {
   "cell_type": "markdown",
   "metadata": {},
   "source": [
    "The `shape` command tells us about the size of the dataframe."
   ]
  },
  {
   "cell_type": "code",
   "execution_count": null,
   "metadata": {},
   "outputs": [],
   "source": [
    "auto.shape"
   ]
  },
  {
   "cell_type": "markdown",
   "metadata": {},
   "source": [
    "&#9989; **<font color=red>Q:</font>** How many data points do we have? How many variables do we have?"
   ]
  },
  {
   "cell_type": "markdown",
   "metadata": {},
   "source": [
    "*Your answer here*"
   ]
  },
  {
   "cell_type": "markdown",
   "metadata": {},
   "source": [
    "# 2. Cleaning up the data set \n",
    "\n",
    "Here's one thing this class won't really show you..... real data is MESSY. You almost never are handed a data set that's ready to go for analysis off the bat. You'll have to spend a bit of time cleaning up your data before you can use the awesome tools we have in this class. So, to that end, let's do some careful checking of this data set before we get started. My favorite place to start with any data set is the `describe` command. "
   ]
  },
  {
   "cell_type": "code",
   "execution_count": null,
   "metadata": {
    "scrolled": true
   },
   "outputs": [],
   "source": [
    "auto.describe()"
   ]
  },
  {
   "cell_type": "markdown",
   "metadata": {},
   "source": [
    "&#9989; **<font color=red>Q:</font>** What columns are missing from the `describe` output?"
   ]
  },
  {
   "cell_type": "markdown",
   "metadata": {},
   "source": [
    "*Your answer here*"
   ]
  },
  {
   "cell_type": "markdown",
   "metadata": {},
   "source": [
    "The next thing to check is to see if there is any missing data.  Usually, this is an entry in your dataframe that shows up as `np.nan`, which is a special value from numpy that just means the data is missing from that cell. \n",
    "\n",
    "We can use the `isna()` command to see if there are any null values around. "
   ]
  },
  {
   "cell_type": "code",
   "execution_count": null,
   "metadata": {},
   "outputs": [],
   "source": [
    "auto[auto.isna().any(axis=1)]"
   ]
  },
  {
   "cell_type": "markdown",
   "metadata": {},
   "source": [
    "Hey cool, no NaN's to be found! You know what, maybe it's a good idea just to take a second look. Check out the first 40 rows of the data set:"
   ]
  },
  {
   "cell_type": "code",
   "execution_count": null,
   "metadata": {
    "scrolled": true
   },
   "outputs": [],
   "source": [
    "auto.head(40)"
   ]
  },
  {
   "cell_type": "markdown",
   "metadata": {},
   "source": [
    "&#9989; **<font color=red>Q:</font>** What symbol(s) is this data set using to represent missing data?"
   ]
  },
  {
   "cell_type": "markdown",
   "metadata": {},
   "source": [
    "*Your answer here*"
   ]
  },
  {
   "cell_type": "markdown",
   "metadata": {},
   "source": [
    "&#9989; **<font color=red>DO THIS:</font>** Well, it's not the end of the world, but there are lots of built in commands in pandas that make life easier when we have `np.nan` used as the missing value entry. So, use the `replace` command to swap out the missing value they used for `np.nan` everywhere it shows up."
   ]
  },
  {
   "cell_type": "code",
   "execution_count": null,
   "metadata": {},
   "outputs": [],
   "source": [
    "#---- your code goes in here! ---#"
   ]
  },
  {
   "cell_type": "markdown",
   "metadata": {},
   "source": [
    "If you did that right, the following command should show you the 5 rows that now have a `np.nan` entry somewhere."
   ]
  },
  {
   "cell_type": "code",
   "execution_count": null,
   "metadata": {},
   "outputs": [],
   "source": [
    "# Find the rows with a NaN somewhere\n",
    "auto[auto.isna().any(axis=1)]"
   ]
  },
  {
   "cell_type": "markdown",
   "metadata": {},
   "source": [
    "&#9989; **<font color=red>DO THIS:</font>** Finally, let's just get rid of those rows from the data set entirely.  Overwrite the `auto` data frame with the version that deletes those 5 rows using the `dropna` command. "
   ]
  },
  {
   "cell_type": "code",
   "execution_count": null,
   "metadata": {},
   "outputs": [],
   "source": [
    "#---- your code goes in here! ---#"
   ]
  },
  {
   "cell_type": "code",
   "execution_count": null,
   "metadata": {},
   "outputs": [],
   "source": [
    "# If that worked, you now have 392 rows\n",
    "auto.shape"
   ]
  },
  {
   "cell_type": "markdown",
   "metadata": {},
   "source": [
    "## Fixing horsepower\n",
    "\n",
    "One last weird data cleanup for us to do on this data set. Check out the `horsepower` column."
   ]
  },
  {
   "cell_type": "code",
   "execution_count": null,
   "metadata": {},
   "outputs": [],
   "source": [
    "auto['horsepower']"
   ]
  },
  {
   "cell_type": "markdown",
   "metadata": {},
   "source": [
    "Compare that to, for example, the `weight` and `name` columns."
   ]
  },
  {
   "cell_type": "code",
   "execution_count": null,
   "metadata": {},
   "outputs": [],
   "source": [
    "auto['weight']"
   ]
  },
  {
   "cell_type": "code",
   "execution_count": null,
   "metadata": {},
   "outputs": [],
   "source": [
    "auto['name']"
   ]
  },
  {
   "cell_type": "markdown",
   "metadata": {},
   "source": [
    "The `dtype` tells us what kind of data pandas thinks is contained in there.  `int64` is for numbers, like horsepower, but for some reason* pandas is treating it like object data, which is what pandas uses for basically anything else, like data inputs that are strings. This makes sense for the `name` column, but we'd like to fix it for the `horsepower` column now that we've fixed the `np.nan` issue. The code below returns the `horsepower` column with `dtype: int64`.\n",
    "\n",
    "   *The reason is related to the weird choice of null entry for this data set. It's also why `describe` above didn't have the `horsepower` column."
   ]
  },
  {
   "cell_type": "code",
   "execution_count": null,
   "metadata": {
    "scrolled": true
   },
   "outputs": [],
   "source": [
    "auto['horsepower'].astype('int')"
   ]
  },
  {
   "cell_type": "markdown",
   "metadata": {},
   "source": [
    "&#9989; **<font color=red>DO THIS:</font>** Overwrite the `horsepower` column in the `auto` data frame with this fixed version. "
   ]
  },
  {
   "cell_type": "code",
   "execution_count": null,
   "metadata": {},
   "outputs": [],
   "source": [
    "#---- Your code here! ----#"
   ]
  },
  {
   "cell_type": "markdown",
   "metadata": {},
   "source": [
    "# 2. Extracting data from a frame\n",
    "\n",
    "Ok, I know everyone needs a reminder on this (It's me. I can never remember any of this without googling it.....), let's just do a quick refresh on how to get out portions of your data table. \n",
    "\n",
    "First, you can get a whole column (which is known as a pandas `Series`) like this: "
   ]
  },
  {
   "cell_type": "code",
   "execution_count": null,
   "metadata": {},
   "outputs": [],
   "source": [
    "auto['weight']"
   ]
  },
  {
   "cell_type": "markdown",
   "metadata": {},
   "source": [
    "For more fine-grained control, there are two commands that are used: `loc`, and `iloc`. "
   ]
  },
  {
   "cell_type": "code",
   "execution_count": null,
   "metadata": {},
   "outputs": [],
   "source": [
    "auto.head()"
   ]
  },
  {
   "cell_type": "code",
   "execution_count": null,
   "metadata": {},
   "outputs": [],
   "source": [
    "# `loc` takes the labels as inputs to find a particular point\n",
    "auto.loc[3,'weight']"
   ]
  },
  {
   "cell_type": "code",
   "execution_count": null,
   "metadata": {},
   "outputs": [],
   "source": [
    "# 'iloc' takex the indices. Here's how to get the same number\n",
    "auto.iloc[3,4]\n"
   ]
  },
  {
   "cell_type": "markdown",
   "metadata": {},
   "source": [
    "In this case, the row entry is the same for both (`3`) because the rows happen to be labeled with their number. However, for `.loc`, we need the name of the column we want (`weight`), while for `.iloc` we need the number of the column (`4` because we count from zero...).\n",
    "\n",
    "&#9989; **<font color=red>DO THIS:</font>** Extract a data frame with rows 3,4,5, and 6, and with information on displacement, horsepower, and weight."
   ]
  },
  {
   "cell_type": "code",
   "execution_count": null,
   "metadata": {},
   "outputs": [],
   "source": [
    "#---- Your code here!----#"
   ]
  },
  {
   "cell_type": "markdown",
   "metadata": {},
   "source": [
    "# 3. Plotting \n",
    "\n",
    "The third-ish thing I do with a new data set that I'm trying to understand is to just start plotting random things. This is great for getting a sense of ranges for values, as well as to start looking for simple correlations. \n",
    "\n",
    "In this class, we will use two python modules for plotting, depending on which has the tools we want: \n",
    "- `matplotlib`. This is basically the standard plotting tool.  It does basically anything you want (albeit with a bit of pain and suffering and a few choice four letter words along the way). You've already seen this package in CMSE 201 at least. \n",
    "- `seaborn`. This is helpful for some prepackaged figure generation that we will make use of.  It's actually built on top of matplotlib, but has often simplified syntax. "
   ]
  },
  {
   "cell_type": "code",
   "execution_count": null,
   "metadata": {},
   "outputs": [],
   "source": [
    "# Make sure you run this to import seaborn. If this doesn't run\n",
    "# for some reason, check that it's installed. \n",
    "import seaborn as sns"
   ]
  },
  {
   "cell_type": "code",
   "execution_count": null,
   "metadata": {
    "scrolled": false
   },
   "outputs": [],
   "source": [
    "auto.head()"
   ]
  },
  {
   "cell_type": "markdown",
   "metadata": {},
   "source": [
    "&#9989; **<font color=red>DO THIS:</font>** First, use matplotlib's `hist` command to show a histogram of the `weight` data. \n",
    "\n",
    "**Hint** if you ever forget how to use a command, you can of course google it, but you can also type `?` before the name of the command to see the help info from inside the jupyter notebook, e.g.:\n",
    "```\n",
    "?plt.hist\n",
    "```"
   ]
  },
  {
   "cell_type": "code",
   "execution_count": null,
   "metadata": {},
   "outputs": [],
   "source": [
    "#----- Your code here!-----#"
   ]
  },
  {
   "cell_type": "markdown",
   "metadata": {},
   "source": [
    "Plot the same histogram using seaborn's `histplot`."
   ]
  },
  {
   "cell_type": "code",
   "execution_count": null,
   "metadata": {},
   "outputs": [],
   "source": [
    "#---- Your code here-----_#"
   ]
  },
  {
   "cell_type": "markdown",
   "metadata": {},
   "source": [
    "The next useful tool is to see data points scattered with each other in 2 dimensions. \n",
    "\n",
    "&#9989; **<font color=red>DO THIS:</font>** Draw a scatter plot of the `weight` variable vs `mpg` variable. "
   ]
  },
  {
   "cell_type": "code",
   "execution_count": null,
   "metadata": {
    "scrolled": false
   },
   "outputs": [],
   "source": [
    "# This command should get you approximately the same thing, \n",
    "# but with the added perk of automatically labeling axes\n",
    "sns.relplot(x=\"weight\", y=\"mpg\", data=auto);"
   ]
  },
  {
   "cell_type": "markdown",
   "metadata": {},
   "source": [
    "Now here is what I think is one of the most useful tools in seaborn for use when you're starting to understand a dataset...."
   ]
  },
  {
   "cell_type": "code",
   "execution_count": null,
   "metadata": {},
   "outputs": [],
   "source": [
    "sns.pairplot(auto)"
   ]
  },
  {
   "cell_type": "markdown",
   "metadata": {},
   "source": [
    "&#9989; **<font color=red>Q:</font>** What is each graph on this giant grid showing you? "
   ]
  },
  {
   "cell_type": "markdown",
   "metadata": {},
   "source": [
    "*Your answer here*"
   ]
  },
  {
   "cell_type": "markdown",
   "metadata": {},
   "source": [
    "*Put your answer to the above question here.*"
   ]
  },
  {
   "cell_type": "markdown",
   "metadata": {},
   "source": [
    "\n",
    "\n",
    "-----\n",
    "### Congratulations, we're done!"
   ]
  },
  {
   "cell_type": "markdown",
   "metadata": {},
   "source": [
    "Written by Dr. Liz Munch, Michigan State University\n",
    "<a rel=\"license\" href=\"http://creativecommons.org/licenses/by-nc/4.0/\"><img alt=\"Creative Commons License\" style=\"border-width:0\" src=\"https://i.creativecommons.org/l/by-nc/4.0/88x31.png\" /></a><br />This work is licensed under a <a rel=\"license\" href=\"http://creativecommons.org/licenses/by-nc/4.0/\">Creative Commons Attribution-NonCommercial 4.0 International License</a>."
   ]
  },
  {
   "cell_type": "code",
   "execution_count": null,
   "metadata": {},
   "outputs": [],
   "source": []
  }
 ],
 "metadata": {
  "kernelspec": {
   "display_name": "Python 3 (ipykernel)",
   "language": "python",
   "name": "python3"
  },
  "language_info": {
   "codemirror_mode": {
    "name": "ipython",
    "version": 3
   },
   "file_extension": ".py",
   "mimetype": "text/x-python",
   "name": "python",
   "nbconvert_exporter": "python",
   "pygments_lexer": "ipython3",
   "version": "3.8.8"
  },
  "vscode": {
   "interpreter": {
    "hash": "3e3338d56a43a0108f5ff8ffc1915439f9812d920a0d5bf5d66e4a60c981234a"
   }
  }
 },
 "nbformat": 4,
 "nbformat_minor": 2
}
