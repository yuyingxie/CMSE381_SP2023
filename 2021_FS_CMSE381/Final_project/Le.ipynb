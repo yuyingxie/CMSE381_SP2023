{
 "cells": [
  {
   "cell_type": "markdown",
   "metadata": {},
   "source": [
    "# Le Nguyen\n",
    "# STT 381\n",
    "# 4/18/21"
   ]
  },
  {
   "cell_type": "markdown",
   "metadata": {},
   "source": [
    "# Importing Libraries "
   ]
  },
  {
   "cell_type": "code",
   "execution_count": 1,
   "metadata": {},
   "outputs": [],
   "source": [
    "import pandas as pd\n",
    "import numpy as np\n",
    "import matplotlib.pyplot as plt\n",
    "from sklearn import tree\n",
    "from sklearn.model_selection import cross_val_score\n",
    "from sklearn.tree import DecisionTreeRegressor\n"
   ]
  },
  {
   "cell_type": "markdown",
   "metadata": {},
   "source": [
    "# 1. Data Exploration"
   ]
  },
  {
   "cell_type": "markdown",
   "metadata": {},
   "source": [
    "The dataset used in this project was 538's police killings dataset found here: https://github.com/fivethirtyeight/data/tree/master/police-killings\n",
    "\n",
    "Article using the data:\n",
    "https://fivethirtyeight.com/features/where-police-have-killed-americans-in-2015/\n",
    "\n",
    "Before forming a problem statement about the data, I want to explore what the data looks like to see if there are any visible trends."
   ]
  },
  {
   "cell_type": "markdown",
   "metadata": {},
   "source": [
    "# Police Killings, Data Description\n",
    "\n",
    "This directory contains the data behind the story [Where Police Have Killed Americans In 2015](http://fivethirtyeight.com/features/where-police-have-killed-americans-in-2015).\n",
    "\n",
    "We linked entries from the [Guardian's database on police killings](http://www.theguardian.com/us-news/ng-interactive/2015/jun/01/the-counted-map-us-police-killings) to census data from the American Community Survey. The Guardian data was downloaded on June 2, 2015. More information about its database is available [here](http://www.theguardian.com/us-news/ng-interactive/2015/jun/01/about-the-counted).\n",
    "\n",
    "Census data was calculated at the tract level from the 2015 5-year American Community Survey using the tables `S0601 (demographics)`, `S1901 (tract-level income and poverty)`, `S1701 (employment and education)` and `DP03 (county-level income)`. Census tracts were determined by geocoding addresses to latitude/longitude using the Bing Maps and Google Maps APIs and then overlaying points onto 2014 census tracts. GEOIDs are census-standard and should be easily joinable to other ACS tables -- let us know if you find anything interesting.\n",
    "\n",
    "Header | Description | Source\n",
    "---|-----------|----\n",
    "`name` | Name of deceased | Guardian\n",
    "`age` | Age of deceased | Guardian\n",
    "`gender` | Gender of deceased | Guardian\n",
    "`raceethnicity` | Race/ethnicity of deceased | Guardian\n",
    "`month` | Month of killing | Guardian\n",
    "`day` | Day of incident | Guardian\n",
    "`year` | Year of incident | Guardian\n",
    "`streetaddress` | Address/intersection where incident occurred | Guardian\n",
    "`city` | City where incident occurred | Guardian\n",
    "`state` | State where incident occurred | Guardian\n",
    "`latitude` | Latitude, geocoded from address |\n",
    "`longitude` | Longitude, geocoded from address |\n",
    "`state_fp` | State FIPS code | Census\n",
    "`county_fp` | County FIPS code | Census\n",
    "`tract_ce` | Tract ID code | Census\n",
    "`geo_id` | Combined tract ID code |\n",
    "`county_id` | Combined county ID code |\n",
    "`namelsad` | Tract description | Census\n",
    "`lawenforcementagency` | Agency involved in incident | Guardian\n",
    "`cause` | Cause of death | Guardian\n",
    "`armed` | How/whether deceased was armed | Guardian\n",
    "`pop` | Tract population | Census\n",
    "`share_white` | Share of pop that is non-Hispanic white | Census\n",
    "`share_bloack` | Share of pop that is black (alone, not in combination) | Census\n",
    "`share_hispanic` | Share of pop that is Hispanic/Latino (any race) | Census\n",
    "`p_income` | Tract-level median personal income | Census\n",
    "`h_income` | Tract-level median household income | Census\n",
    "`county_income` | County-level median household income | Census\n",
    "`comp_income` | `h_income` / `county_income` | Calculated from Census\n",
    "`county_bucket` | Household income, quintile within county | Calculated from Census\n",
    "`nat_bucket` | Household income, quintile nationally | Calculated from Census\n",
    "\n",
    "`comp_income` is simply tract-level median household income as a share of county-level median household income.\n",
    "\n",
    "`county_bucket` provides where the tract's median household income falls in the distribution (by quintile) of all tracts in the county. (1 indicates a tract falls in the poorest 20% of tracts within the county.) Distribution is not weighted by population.\n",
    "\n",
    "`nat_bucket` is the same but for all U.S. counties."
   ]
  },
  {
   "cell_type": "code",
   "execution_count": 24,
   "metadata": {},
   "outputs": [
    {
     "data": {
      "text/html": [
       "<div>\n",
       "<style scoped>\n",
       "    .dataframe tbody tr th:only-of-type {\n",
       "        vertical-align: middle;\n",
       "    }\n",
       "\n",
       "    .dataframe tbody tr th {\n",
       "        vertical-align: top;\n",
       "    }\n",
       "\n",
       "    .dataframe thead th {\n",
       "        text-align: right;\n",
       "    }\n",
       "</style>\n",
       "<table border=\"1\" class=\"dataframe\">\n",
       "  <thead>\n",
       "    <tr style=\"text-align: right;\">\n",
       "      <th></th>\n",
       "      <th>name</th>\n",
       "      <th>age</th>\n",
       "      <th>gender</th>\n",
       "      <th>raceethnicity</th>\n",
       "      <th>month</th>\n",
       "      <th>day</th>\n",
       "      <th>year</th>\n",
       "      <th>streetaddress</th>\n",
       "      <th>city</th>\n",
       "      <th>state</th>\n",
       "      <th>...</th>\n",
       "      <th>share_hispanic</th>\n",
       "      <th>p_income</th>\n",
       "      <th>h_income</th>\n",
       "      <th>county_income</th>\n",
       "      <th>comp_income</th>\n",
       "      <th>county_bucket</th>\n",
       "      <th>nat_bucket</th>\n",
       "      <th>pov</th>\n",
       "      <th>urate</th>\n",
       "      <th>college</th>\n",
       "    </tr>\n",
       "  </thead>\n",
       "  <tbody>\n",
       "    <tr>\n",
       "      <td>0</td>\n",
       "      <td>A'donte Washington</td>\n",
       "      <td>16</td>\n",
       "      <td>Male</td>\n",
       "      <td>Black</td>\n",
       "      <td>February</td>\n",
       "      <td>23</td>\n",
       "      <td>2015</td>\n",
       "      <td>Clearview Ln</td>\n",
       "      <td>Millbrook</td>\n",
       "      <td>AL</td>\n",
       "      <td>...</td>\n",
       "      <td>5.6</td>\n",
       "      <td>28375</td>\n",
       "      <td>51367.0</td>\n",
       "      <td>54766</td>\n",
       "      <td>0.937936</td>\n",
       "      <td>3.0</td>\n",
       "      <td>3.0</td>\n",
       "      <td>14.1</td>\n",
       "      <td>0.097686</td>\n",
       "      <td>0.168510</td>\n",
       "    </tr>\n",
       "    <tr>\n",
       "      <td>1</td>\n",
       "      <td>Aaron Rutledge</td>\n",
       "      <td>27</td>\n",
       "      <td>Male</td>\n",
       "      <td>White</td>\n",
       "      <td>April</td>\n",
       "      <td>2</td>\n",
       "      <td>2015</td>\n",
       "      <td>300 block Iris Park Dr</td>\n",
       "      <td>Pineville</td>\n",
       "      <td>LA</td>\n",
       "      <td>...</td>\n",
       "      <td>0.5</td>\n",
       "      <td>14678</td>\n",
       "      <td>27972.0</td>\n",
       "      <td>40930</td>\n",
       "      <td>0.683411</td>\n",
       "      <td>2.0</td>\n",
       "      <td>1.0</td>\n",
       "      <td>28.8</td>\n",
       "      <td>0.065724</td>\n",
       "      <td>0.111402</td>\n",
       "    </tr>\n",
       "    <tr>\n",
       "      <td>2</td>\n",
       "      <td>Aaron Siler</td>\n",
       "      <td>26</td>\n",
       "      <td>Male</td>\n",
       "      <td>White</td>\n",
       "      <td>March</td>\n",
       "      <td>14</td>\n",
       "      <td>2015</td>\n",
       "      <td>22nd Ave and 56th St</td>\n",
       "      <td>Kenosha</td>\n",
       "      <td>WI</td>\n",
       "      <td>...</td>\n",
       "      <td>16.8</td>\n",
       "      <td>25286</td>\n",
       "      <td>45365.0</td>\n",
       "      <td>54930</td>\n",
       "      <td>0.825869</td>\n",
       "      <td>2.0</td>\n",
       "      <td>3.0</td>\n",
       "      <td>14.6</td>\n",
       "      <td>0.166293</td>\n",
       "      <td>0.147312</td>\n",
       "    </tr>\n",
       "    <tr>\n",
       "      <td>3</td>\n",
       "      <td>Aaron Valdez</td>\n",
       "      <td>25</td>\n",
       "      <td>Male</td>\n",
       "      <td>Hispanic/Latino</td>\n",
       "      <td>March</td>\n",
       "      <td>11</td>\n",
       "      <td>2015</td>\n",
       "      <td>3000 Seminole Ave</td>\n",
       "      <td>South Gate</td>\n",
       "      <td>CA</td>\n",
       "      <td>...</td>\n",
       "      <td>98.8</td>\n",
       "      <td>17194</td>\n",
       "      <td>48295.0</td>\n",
       "      <td>55909</td>\n",
       "      <td>0.863814</td>\n",
       "      <td>3.0</td>\n",
       "      <td>3.0</td>\n",
       "      <td>11.7</td>\n",
       "      <td>0.124827</td>\n",
       "      <td>0.050133</td>\n",
       "    </tr>\n",
       "    <tr>\n",
       "      <td>4</td>\n",
       "      <td>Adam Jovicic</td>\n",
       "      <td>29</td>\n",
       "      <td>Male</td>\n",
       "      <td>White</td>\n",
       "      <td>March</td>\n",
       "      <td>19</td>\n",
       "      <td>2015</td>\n",
       "      <td>364 Hiwood Ave</td>\n",
       "      <td>Munroe Falls</td>\n",
       "      <td>OH</td>\n",
       "      <td>...</td>\n",
       "      <td>1.7</td>\n",
       "      <td>33954</td>\n",
       "      <td>68785.0</td>\n",
       "      <td>49669</td>\n",
       "      <td>1.384868</td>\n",
       "      <td>5.0</td>\n",
       "      <td>4.0</td>\n",
       "      <td>1.9</td>\n",
       "      <td>0.063550</td>\n",
       "      <td>0.403954</td>\n",
       "    </tr>\n",
       "  </tbody>\n",
       "</table>\n",
       "<p>5 rows × 34 columns</p>\n",
       "</div>"
      ],
      "text/plain": [
       "                 name age gender    raceethnicity     month  day  year  \\\n",
       "0  A'donte Washington  16   Male            Black  February   23  2015   \n",
       "1      Aaron Rutledge  27   Male            White     April    2  2015   \n",
       "2         Aaron Siler  26   Male            White     March   14  2015   \n",
       "3        Aaron Valdez  25   Male  Hispanic/Latino     March   11  2015   \n",
       "4        Adam Jovicic  29   Male            White     March   19  2015   \n",
       "\n",
       "            streetaddress          city state  ...  share_hispanic  p_income  \\\n",
       "0            Clearview Ln     Millbrook    AL  ...             5.6     28375   \n",
       "1  300 block Iris Park Dr     Pineville    LA  ...             0.5     14678   \n",
       "2    22nd Ave and 56th St       Kenosha    WI  ...            16.8     25286   \n",
       "3       3000 Seminole Ave    South Gate    CA  ...            98.8     17194   \n",
       "4          364 Hiwood Ave  Munroe Falls    OH  ...             1.7     33954   \n",
       "\n",
       "   h_income  county_income  comp_income  county_bucket  nat_bucket   pov  \\\n",
       "0   51367.0          54766     0.937936            3.0         3.0  14.1   \n",
       "1   27972.0          40930     0.683411            2.0         1.0  28.8   \n",
       "2   45365.0          54930     0.825869            2.0         3.0  14.6   \n",
       "3   48295.0          55909     0.863814            3.0         3.0  11.7   \n",
       "4   68785.0          49669     1.384868            5.0         4.0   1.9   \n",
       "\n",
       "      urate   college  \n",
       "0  0.097686  0.168510  \n",
       "1  0.065724  0.111402  \n",
       "2  0.166293  0.147312  \n",
       "3  0.124827  0.050133  \n",
       "4  0.063550  0.403954  \n",
       "\n",
       "[5 rows x 34 columns]"
      ]
     },
     "execution_count": 24,
     "metadata": {},
     "output_type": "execute_result"
    }
   ],
   "source": [
    "#Importing the data\n",
    "Data = pd.read_csv(\"killings.csv\")\n",
    "Data.head()"
   ]
  },
  {
   "cell_type": "code",
   "execution_count": 26,
   "metadata": {},
   "outputs": [
    {
     "name": "stderr",
     "output_type": "stream",
     "text": [
      "/opt/anaconda3/lib/python3.7/site-packages/numpy/lib/histograms.py:824: RuntimeWarning: invalid value encountered in greater_equal\n",
      "  keep = (tmp_a >= first_edge)\n",
      "/opt/anaconda3/lib/python3.7/site-packages/numpy/lib/histograms.py:825: RuntimeWarning: invalid value encountered in less_equal\n",
      "  keep &= (tmp_a <= last_edge)\n"
     ]
    },
    {
     "data": {
      "image/png": "[encoded data removed]",
      "text/plain": [
       "<Figure size 864x432 with 1 Axes>"
      ]
     },
     "metadata": {
      "needs_background": "light"
     },
     "output_type": "display_data"
    }
   ],
   "source": [
    "#Age\n",
    "plt.figure(figsize = (12,6))\n",
    "\n",
    "Data['age'] = pd.to_numeric(Data[\"age\"],errors='coerce')\n",
    "plt.hist(Data['age'], bins = 25)\n",
    "plt.title(\"Age Distribution\")\n",
    "plt.ylabel(\"Counts\")\n",
    "plt.xlabel(\"Age (Years)\");"
   ]
  },
  {
   "cell_type": "code",
   "execution_count": 27,
   "metadata": {},
   "outputs": [
    {
     "data": {
      "image/png": "[encoded data removed]",
      "text/plain": [
       "<Figure size 864x432 with 1 Axes>"
      ]
     },
     "metadata": {
      "needs_background": "light"
     },
     "output_type": "display_data"
    }
   ],
   "source": [
    "#Gender\n",
    "plt.figure(figsize = (12,6))\n",
    "\n",
    "plt.bar([\"Male\",\"Female\"], [len(Data[Data[\"gender\"] == \"Male\"]),len(Data[Data[\"gender\"] == \"Female\"])])\n",
    "plt.title(\"Gender Distribution\")\n",
    "plt.ylabel(\"Counts\")\n",
    "plt.xlabel(\"Gender (M/F)\");"
   ]
  },
  {
   "cell_type": "code",
   "execution_count": 28,
   "metadata": {},
   "outputs": [
    {
     "data": {
      "image/png": "[encoded data removed]",
      "text/plain": [
       "<Figure size 864x432 with 1 Axes>"
      ]
     },
     "metadata": {
      "needs_background": "light"
     },
     "output_type": "display_data"
    }
   ],
   "source": [
    "#Race distribution (Unnormalized)\n",
    "Races = Data[\"raceethnicity\"].unique()\n",
    "\n",
    "RaceCount = []\n",
    "\n",
    "for i in Races:\n",
    "    Count = Data[Data[\"raceethnicity\"] == i]\n",
    "    RaceCount.append(len(Count))\n",
    "\n",
    "\n",
    "plt.figure(figsize = (12,6))\n",
    "\n",
    "plt.bar(Races,RaceCount);\n",
    "plt.title(\"Race Distribution (Unnormalized)\")\n",
    "plt.ylabel(\"Counts\")\n",
    "plt.xlabel(\"Race\");"
   ]
  },
  {
   "cell_type": "markdown",
   "metadata": {},
   "source": [
    "When I was looking at race in the data, I wanted to normalize each race against the percentage of the population they were in 2016. I used census data to convert the absolute number of people killed per race into people killed per race per 100,000 thosand.\n",
    "\n",
    "https://www.statista.com/statistics/270272/percentage-of-us-population-by-ethnicities/"
   ]
  },
  {
   "cell_type": "code",
   "execution_count": 8,
   "metadata": {},
   "outputs": [],
   "source": [
    "#Estimate population of U.S. 2015  \n",
    "Pop= 323*10**6\n",
    "#Estimate population per 100,000\n",
    "RaceCountAdjusted = (np.array(RaceCount)/np.array([.1331*Pop,.6127*Pop,.1779*Pop,.06*Pop,.0567*Pop,.0125*Pop]))*10**5"
   ]
  },
  {
   "cell_type": "code",
   "execution_count": 29,
   "metadata": {},
   "outputs": [
    {
     "data": {
      "image/png": "[encoded data removed]",
      "text/plain": [
       "<Figure size 864x432 with 1 Axes>"
      ]
     },
     "metadata": {
      "needs_background": "light"
     },
     "output_type": "display_data"
    }
   ],
   "source": [
    "#Distribution in the data (Adjusted by population (per 100,000))\n",
    "plt.figure(figsize = (12,6))\n",
    "\n",
    "plt.bar(Races,RaceCountAdjusted)\n",
    "plt.title(\"Race Distribution (Normalized)\")\n",
    "plt.ylabel(\"Counts\")\n",
    "plt.xlabel(\"Race\");\n",
    "\n"
   ]
  },
  {
   "cell_type": "code",
   "execution_count": 30,
   "metadata": {},
   "outputs": [
    {
     "data": {
      "image/png": "[encoded data removed]",
      "text/plain": [
       "<Figure size 864x432 with 1 Axes>"
      ]
     },
     "metadata": {
      "needs_background": "light"
     },
     "output_type": "display_data"
    }
   ],
   "source": [
    "#Armed Distribution\n",
    "plt.figure(figsize = (12,6))\n",
    "Data[\"armed\"].unique()\n",
    "ArmedCount = []\n",
    "\n",
    "for i in Data[\"armed\"].unique():\n",
    "    ArmedCount.append(len(Data[Data['armed'] == i]))\n",
    "\n",
    "plt.bar(Data[\"armed\"].unique(), ArmedCount)\n",
    "plt.title(\"Armed Distribution\")\n",
    "plt.ylabel(\"Counts\")\n",
    "plt.xlabel(\"Type of Arm\");"
   ]
  },
  {
   "cell_type": "code",
   "execution_count": 31,
   "metadata": {},
   "outputs": [
    {
     "data": {
      "image/png": "[encoded data removed]",
      "text/plain": [
       "<Figure size 864x432 with 1 Axes>"
      ]
     },
     "metadata": {
      "needs_background": "light"
     },
     "output_type": "display_data"
    }
   ],
   "source": [
    "#Income Distribution\n",
    "plt.figure(figsize = (12,6))\n",
    "plt.hist(Data[\"h_income\"], bins = 25)\n",
    "plt.title(\"Income (per Household) Distribution\")\n",
    "plt.ylabel(\"Counts\")\n",
    "plt.xlabel(\"Household Income\");"
   ]
  },
  {
   "cell_type": "markdown",
   "metadata": {},
   "source": [
    "# 2. Problem Statement\n",
    "\n",
    "After exploring the data and seeing the distribution of variables in dataset I think I will be able to predict the number of people who will be killed by the police given their demographics. Looking at each characteristic on its own lets us see how one variable is related to the frequency of police killings. I think a comprehensive model can be made off of using multiple variables. For example, how many black, young, low income, people do we expect to be killed (in a 5 year span as this data shows)? "
   ]
  },
  {
   "cell_type": "markdown",
   "metadata": {},
   "source": [
    "# 3. Related work "
   ]
  },
  {
   "cell_type": "markdown",
   "metadata": {},
   "source": [
    "To check the findings of the study this data was used for, I went line by line on the conclusions section of the active to see if I could find the same trends in the data they did.\n",
    "\n",
    "The conclusion 538 found is the following:\n",
    "\n",
    "\"One thing that’s clear from the data: Police killings tend to take place in neighborhoods that are poorer and blacker than the U.S. as a whole. About 30 percent of the killings — 139 of the 467 — took place in census tracts that are in the bottom 20 percent nationally in terms of household income.4 A quarter of those killed by police died in tracts with majority-black populations; nationally, just 7 percent of the population lives in majority-black tracts.\n",
    "\n",
    "Black Americans were especially likely to be killed in poorer neighborhoods. Of the 136 African-Americans killed by police who are in the Guardian’s database, 56 — more than 40 percent — died in tracts in the poorest 20 percent nationally. But that may say more about overall racial inequality than about policing per se: African-Americans were killed in low-income areas at roughly the same rate that they live in them.5\""
   ]
  },
  {
   "cell_type": "markdown",
   "metadata": {},
   "source": [
    "# 3.1 \"About 30 percent of the killings — 139 of the 467 — took place in census tracts that are in the bottom 20 percent nationally in terms of household income\"\n",
    "\n",
    "The first statement in the conclusion easily comes out of the dataset, seen below."
   ]
  },
  {
   "cell_type": "code",
   "execution_count": 38,
   "metadata": {},
   "outputs": [
    {
     "name": "stdout",
     "output_type": "stream",
     "text": [
      "People in the bottom quintile 139.0\n",
      "Total people in the dataset 467\n"
     ]
    },
    {
     "data": {
      "image/png": "[encoded data removed]",
      "text/plain": [
       "<Figure size 864x432 with 1 Axes>"
      ]
     },
     "metadata": {
      "needs_background": "light"
     },
     "output_type": "display_data"
    }
   ],
   "source": [
    "plt.figure(figsize = (12,6))\n",
    "Data[\"nat_bucket\"] = pd.to_numeric(Data[\"nat_bucket\"], errors = 'coerce')\n",
    "x,y,_ =plt.hist(Data[\"nat_bucket\"])\n",
    "plt.xticks([1,2,3,4,5])\n",
    "plt.title(\"People Killed per Quintile\")\n",
    "plt.ylabel(\"Counts\")\n",
    "plt.xlabel(\"Quentile)\");\n",
    "print(\"People in the bottom quintile \" + str(x[0]))\n",
    "print(\"Total people in the dataset \" + str(len(Data)))"
   ]
  },
  {
   "cell_type": "markdown",
   "metadata": {},
   "source": [
    "# 3.2  \"A quarter of those killed by police died in tracts with majority-black populations\"\n",
    "\n",
    "I could not prove this claim by the article. I defined a majority-black tract as a tract with a larger share of the poplution that is black than white or hispanic. By doing thing, I found that only about a fifth (20.77%) died in majority-black tracts. I suspect the article is using a different definition of majority-black, which was not stated. "
   ]
  },
  {
   "cell_type": "code",
   "execution_count": 41,
   "metadata": {},
   "outputs": [
    {
     "name": "stdout",
     "output_type": "stream",
     "text": [
      "People died in majority-black tracts 20.77087794432548%\n"
     ]
    },
    {
     "data": {
      "image/png": "[encoded data removed]",
      "text/plain": [
       "<Figure size 432x288 with 1 Axes>"
      ]
     },
     "metadata": {
      "needs_background": "light"
     },
     "output_type": "display_data"
    }
   ],
   "source": [
    "MajorityBlack = 0\n",
    "MinorityBlack = 0\n",
    "\n",
    "for i in range(0,len(Data)):\n",
    "    if Data[\"share_black\"][i] > Data[\"share_white\"][i] and Data[\"share_black\"][i] > Data[\"share_hispanic\"][i]:\n",
    "        MajorityBlack += 1\n",
    "    else:\n",
    "        MinorityBlack += 1 \n",
    "\n",
    "\n",
    "plt.bar(['Majority Black', 'Minority Black'], np.array([MajorityBlack,MinorityBlack])/len(Data))\n",
    "print(\"People died in majority-black tracts \" + str(100*MajorityBlack/len(Data[\"share_black\"]))+\"%\");"
   ]
  },
  {
   "cell_type": "markdown",
   "metadata": {},
   "source": [
    "# 3.3 \"Of the 136 African-Americans killed by police who are in the Guardian’s database, 56 — more than 40 percent — died in tracts in the poorest 20 percent nationally.\"\n",
    "\n",
    "This claim was easily proved by masking the data, as seen below.\n"
   ]
  },
  {
   "cell_type": "code",
   "execution_count": 43,
   "metadata": {},
   "outputs": [
    {
     "name": "stdout",
     "output_type": "stream",
     "text": [
      "Number of people in the poorest quintile 139\n",
      "Number of Black people in the data 135\n",
      "Number of Black people in the poorest quintile 56\n",
      "Perctange of pooerest quintile that is Black 40.28776978417266%\n"
     ]
    }
   ],
   "source": [
    "Poor20 = Data[Data[\"nat_bucket\"] == 1]\n",
    "print(\"Number of people in the poorest quintile \" + str(len(Poor20)))\n",
    "\n",
    "Black = Data[Data[\"raceethnicity\"] == \"Black\"]\n",
    "print(\"Number of Black people in the data \" +str(len(Black)))\n",
    "\n",
    "BlackPoor = Black[Black[\"nat_bucket\"] == 1]\n",
    "print(\"Number of Black people in the poorest quintile \" + str(len(BlackPoor)))\n",
    "\n",
    "print(\"Perctange of pooerest quintile that is Black \" + str(100*len(BlackPoor)/len(Poor20)) + \"%\")"
   ]
  },
  {
   "cell_type": "markdown",
   "metadata": {},
   "source": [
    "# 4. Model"
   ]
  },
  {
   "cell_type": "markdown",
   "metadata": {},
   "source": [
    "As said in the problem statement, I wanted to create a multi-variable model to predict the number of people who will be killed by the police in the same time frame as the data looks at (in 5 years). To do this I used a decision tree classifier based on a set of variables that in combination would desribed how many people are killed. The variables I chose were race, age, and household income because they showed very clear trends in the data exlporation. In order to make a classifier I have to further categorize the data in a way the decision tree could use. \n",
    "\n",
    "I mapped each race to a number, with 6 races represented they were mapped to 0-5. I then had to categorize age, which I did with young (0-35), middle aged (36-65), and old (65+). A similar categorization was given to household income: low (0-30k), medium (30k-80k) and high (80k+). Each low/medium/high classificaton was mapped from 0-2. So my features now looked like a list of categories. Like 1,2,2, would be a white, middle aged, medium income person. \n",
    "\n",
    "The labels for the data were the number of people with a certian set of characteristics that were killed. This was determined by the number of rows in the data with the exact same characteristics. With the labels and features, I was able to create a classifier to predict how many people of a certian set of characteristics would die in a 5 year span by police. \n"
   ]
  },
  {
   "cell_type": "code",
   "execution_count": 15,
   "metadata": {},
   "outputs": [],
   "source": [
    "#0 = Black\n",
    "#1 = White\n",
    "#2 = Hispanic/Latino\n",
    "#3 = Unkown\n",
    "#4 = Asian/Pacific Islander\n",
    "#5 = Native American\n",
    "\n",
    "RaceNumber = np.array(Data[\"raceethnicity\"])\n",
    "\n",
    "for j in range(0, len(RaceNumber)):\n",
    "    for i in range(0,len(Data['raceethnicity'].unique())):\n",
    "        if RaceNumber[j] == str(Data['raceethnicity'].unique()[i]):\n",
    "            RaceNumber[j] = i"
   ]
  },
  {
   "cell_type": "code",
   "execution_count": 16,
   "metadata": {},
   "outputs": [],
   "source": [
    "#0 = young\n",
    "#1 = middle age\n",
    "#2 = old\n",
    "\n",
    "AgeGroup = []\n",
    "\n",
    "Ages = pd.to_numeric(Data['age'], errors = \"coerce\")\n",
    "\n",
    "for i in Ages:\n",
    "    if i <= 35:\n",
    "        AgeGroup.append(0)\n",
    "    elif i > 35 and i <= 65:\n",
    "        AgeGroup.append(1)\n",
    "    else:\n",
    "        AgeGroup.append(2)\n"
   ]
  },
  {
   "cell_type": "code",
   "execution_count": 17,
   "metadata": {},
   "outputs": [],
   "source": [
    "#0 = low income\n",
    "#1 = middle income\n",
    "#2 = high income\n",
    "\n",
    "IncomeGroup = []\n",
    "\n",
    "for i in Data[\"h_income\"]:\n",
    "    if i <= 30000:\n",
    "        IncomeGroup.append(0)\n",
    "    elif i > 30000 and i <= 80000:\n",
    "         IncomeGroup.append(1)\n",
    "    else:\n",
    "        IncomeGroup.append(2)\n",
    "\n"
   ]
  },
  {
   "cell_type": "code",
   "execution_count": 18,
   "metadata": {},
   "outputs": [
    {
     "data": {
      "text/html": [
       "<div>\n",
       "<style scoped>\n",
       "    .dataframe tbody tr th:only-of-type {\n",
       "        vertical-align: middle;\n",
       "    }\n",
       "\n",
       "    .dataframe tbody tr th {\n",
       "        vertical-align: top;\n",
       "    }\n",
       "\n",
       "    .dataframe thead th {\n",
       "        text-align: right;\n",
       "    }\n",
       "</style>\n",
       "<table border=\"1\" class=\"dataframe\">\n",
       "  <thead>\n",
       "    <tr style=\"text-align: right;\">\n",
       "      <th></th>\n",
       "      <th>age</th>\n",
       "      <th>race</th>\n",
       "      <th>income</th>\n",
       "    </tr>\n",
       "  </thead>\n",
       "  <tbody>\n",
       "    <tr>\n",
       "      <td>0</td>\n",
       "      <td>0</td>\n",
       "      <td>0</td>\n",
       "      <td>1</td>\n",
       "    </tr>\n",
       "    <tr>\n",
       "      <td>1</td>\n",
       "      <td>0</td>\n",
       "      <td>1</td>\n",
       "      <td>0</td>\n",
       "    </tr>\n",
       "    <tr>\n",
       "      <td>2</td>\n",
       "      <td>0</td>\n",
       "      <td>1</td>\n",
       "      <td>1</td>\n",
       "    </tr>\n",
       "    <tr>\n",
       "      <td>3</td>\n",
       "      <td>0</td>\n",
       "      <td>2</td>\n",
       "      <td>1</td>\n",
       "    </tr>\n",
       "    <tr>\n",
       "      <td>4</td>\n",
       "      <td>0</td>\n",
       "      <td>1</td>\n",
       "      <td>1</td>\n",
       "    </tr>\n",
       "  </tbody>\n",
       "</table>\n",
       "</div>"
      ],
      "text/plain": [
       "  age race income\n",
       "0   0    0      1\n",
       "1   0    1      0\n",
       "2   0    1      1\n",
       "3   0    2      1\n",
       "4   0    1      1"
      ]
     },
     "execution_count": 18,
     "metadata": {},
     "output_type": "execute_result"
    }
   ],
   "source": [
    "ModelData = pd.DataFrame(np.array([AgeGroup,RaceNumber,IncomeGroup]).T, columns = [\"age\",\"race\",\"income\"])\n",
    "ModelData.head()"
   ]
  },
  {
   "cell_type": "code",
   "execution_count": 19,
   "metadata": {},
   "outputs": [],
   "source": [
    "#Counting duplicate rows\n",
    "Duplicates = []\n",
    "\n",
    "for i in range(0, len(ModelData)):\n",
    "    Counts = 0\n",
    "    for j in range(0, len(ModelData)):\n",
    "        if ModelData.loc[i][0] == ModelData.loc[j][0] and ModelData.loc[i][1] == ModelData.loc[j][1] and ModelData.loc[i][2] == ModelData.loc[j][2]:\n",
    "            Counts +=1\n",
    "    Duplicates.append(Counts)\n",
    "    \n",
    "Duplicates \n",
    "ModelData.insert(3,\"counts\",Duplicates)"
   ]
  },
  {
   "cell_type": "code",
   "execution_count": 20,
   "metadata": {},
   "outputs": [
    {
     "data": {
      "text/html": [
       "<div>\n",
       "<style scoped>\n",
       "    .dataframe tbody tr th:only-of-type {\n",
       "        vertical-align: middle;\n",
       "    }\n",
       "\n",
       "    .dataframe tbody tr th {\n",
       "        vertical-align: top;\n",
       "    }\n",
       "\n",
       "    .dataframe thead th {\n",
       "        text-align: right;\n",
       "    }\n",
       "</style>\n",
       "<table border=\"1\" class=\"dataframe\">\n",
       "  <thead>\n",
       "    <tr style=\"text-align: right;\">\n",
       "      <th></th>\n",
       "      <th>age</th>\n",
       "      <th>race</th>\n",
       "      <th>income</th>\n",
       "      <th>counts</th>\n",
       "    </tr>\n",
       "  </thead>\n",
       "  <tbody>\n",
       "    <tr>\n",
       "      <td>0</td>\n",
       "      <td>0</td>\n",
       "      <td>0</td>\n",
       "      <td>1</td>\n",
       "      <td>49</td>\n",
       "    </tr>\n",
       "    <tr>\n",
       "      <td>1</td>\n",
       "      <td>0</td>\n",
       "      <td>1</td>\n",
       "      <td>0</td>\n",
       "      <td>14</td>\n",
       "    </tr>\n",
       "    <tr>\n",
       "      <td>2</td>\n",
       "      <td>0</td>\n",
       "      <td>1</td>\n",
       "      <td>1</td>\n",
       "      <td>75</td>\n",
       "    </tr>\n",
       "    <tr>\n",
       "      <td>3</td>\n",
       "      <td>0</td>\n",
       "      <td>2</td>\n",
       "      <td>1</td>\n",
       "      <td>35</td>\n",
       "    </tr>\n",
       "    <tr>\n",
       "      <td>4</td>\n",
       "      <td>0</td>\n",
       "      <td>1</td>\n",
       "      <td>1</td>\n",
       "      <td>75</td>\n",
       "    </tr>\n",
       "    <tr>\n",
       "      <td>...</td>\n",
       "      <td>...</td>\n",
       "      <td>...</td>\n",
       "      <td>...</td>\n",
       "      <td>...</td>\n",
       "    </tr>\n",
       "    <tr>\n",
       "      <td>462</td>\n",
       "      <td>0</td>\n",
       "      <td>0</td>\n",
       "      <td>0</td>\n",
       "      <td>26</td>\n",
       "    </tr>\n",
       "    <tr>\n",
       "      <td>463</td>\n",
       "      <td>0</td>\n",
       "      <td>5</td>\n",
       "      <td>1</td>\n",
       "      <td>2</td>\n",
       "    </tr>\n",
       "    <tr>\n",
       "      <td>464</td>\n",
       "      <td>1</td>\n",
       "      <td>1</td>\n",
       "      <td>1</td>\n",
       "      <td>105</td>\n",
       "    </tr>\n",
       "    <tr>\n",
       "      <td>465</td>\n",
       "      <td>1</td>\n",
       "      <td>0</td>\n",
       "      <td>1</td>\n",
       "      <td>34</td>\n",
       "    </tr>\n",
       "    <tr>\n",
       "      <td>466</td>\n",
       "      <td>1</td>\n",
       "      <td>3</td>\n",
       "      <td>2</td>\n",
       "      <td>1</td>\n",
       "    </tr>\n",
       "  </tbody>\n",
       "</table>\n",
       "<p>467 rows × 4 columns</p>\n",
       "</div>"
      ],
      "text/plain": [
       "    age race income  counts\n",
       "0     0    0      1      49\n",
       "1     0    1      0      14\n",
       "2     0    1      1      75\n",
       "3     0    2      1      35\n",
       "4     0    1      1      75\n",
       "..   ..  ...    ...     ...\n",
       "462   0    0      0      26\n",
       "463   0    5      1       2\n",
       "464   1    1      1     105\n",
       "465   1    0      1      34\n",
       "466   1    3      2       1\n",
       "\n",
       "[467 rows x 4 columns]"
      ]
     },
     "execution_count": 20,
     "metadata": {},
     "output_type": "execute_result"
    }
   ],
   "source": [
    "ModelData"
   ]
  },
  {
   "cell_type": "code",
   "execution_count": 21,
   "metadata": {},
   "outputs": [
    {
     "data": {
      "text/plain": [
       "0.9698795180722891"
      ]
     },
     "execution_count": 21,
     "metadata": {},
     "output_type": "execute_result"
    }
   ],
   "source": [
    "#Training and testing classifier\n",
    "Filtered = ModelData\n",
    "Filtered = Filtered.mask(Filtered['age'] == 'Unknown')\n",
    "Filtered = Filtered.dropna()\n",
    "Filtered = Filtered.sample(frac = 1)\n",
    "\n",
    "X = Filtered[['age','race','income']]\n",
    "Y = Filtered['counts']\n",
    "Y=Y.astype('int')\n",
    "\n",
    "XTrain = X[0:300]\n",
    "YTrain = Y[0:300]\n",
    "\n",
    "XTest = X[301:]\n",
    "YTest = Y[301:]\n",
    "\n",
    "Classifier = tree.DecisionTreeClassifier()\n",
    "Fit = Classifier.fit(XTrain, YTrain)\n",
    "Fit.score(XTest,YTest)"
   ]
  },
  {
   "cell_type": "markdown",
   "metadata": {},
   "source": [
    "# 5. Results"
   ]
  },
  {
   "cell_type": "markdown",
   "metadata": {},
   "source": [
    "My model was built with a 2/3:1/3 train-test split and to check the accuracy of the model I retrained and retested the model 1,000 times. Each time the data was randomly shuffled to make sure the model could be trained and tested on any data and still work. \n",
    "\n",
    "After training and testing on 1,000 reshuffles of the data, I got a mean accuracy of about 97.71% with a standard deviation of 1.31%"
   ]
  },
  {
   "cell_type": "code",
   "execution_count": 54,
   "metadata": {},
   "outputs": [
    {
     "name": "stdout",
     "output_type": "stream",
     "text": [
      "Mean Score: 0.9771746987951808\n",
      "Varience: 0.013198792431249131\n"
     ]
    },
    {
     "data": {
      "image/png": "[encoded data removed]",
      "text/plain": [
       "<Figure size 864x432 with 1 Axes>"
      ]
     },
     "metadata": {
      "needs_background": "light"
     },
     "output_type": "display_data"
    }
   ],
   "source": [
    "#Repeating the training and testing to see if I get consistant results.\n",
    "Scores = []\n",
    "for i in range(0,1000):\n",
    "    Filtered = ModelData\n",
    "    Filtered = Filtered.mask(Filtered['age'] == 'Unknown')\n",
    "    Filtered = Filtered.dropna()\n",
    "    Filtered = Filtered.sample(frac = 1)\n",
    "\n",
    "    X = Filtered[['age','race','income']]\n",
    "    Y = Filtered['counts']\n",
    "    Y=Y.astype('int')\n",
    "\n",
    "    XTrain = X[0:300]\n",
    "    YTrain = Y[0:300]\n",
    "\n",
    "    XTest = X[301:]\n",
    "    YTest = Y[301:]\n",
    "\n",
    "    Classifier = tree.DecisionTreeClassifier()\n",
    "    Fit = Classifier.fit(XTrain, YTrain)\n",
    "    Scores.append(Fit.score(XTest,YTest))\n",
    "\n",
    "plt.figure(figsize = (12,6))\n",
    "plt.hist(Scores)\n",
    "plt.title(\"Score distribution\")\n",
    "plt.ylabel(\"Counts\")\n",
    "plt.xlabel(\"Accuracy (Out of 1)\");\n",
    "print(\"Mean Score: \" + str(np.mean(Scores)))\n",
    "print(\"Varience: \" + str(np.std(Scores)))"
   ]
  },
  {
   "cell_type": "markdown",
   "metadata": {},
   "source": [
    "# 6. Discussion and conclusions"
   ]
  },
  {
   "cell_type": "markdown",
   "metadata": {},
   "source": [
    "I think the high accuracy of my model is misleading because of the size and repetition of the data set. With only 467 enteries, I am not working with much data and with the catagorization of my data I made my labels very limited. One set of characteristics is found in the data 105 times, meaning about 1/5 of the data is identical. I think this model would be greatly improved with much more data, finer catagorization, and more variables included. "
   ]
  },
  {
   "cell_type": "code",
   "execution_count": null,
   "metadata": {},
   "outputs": [],
   "source": []
  }
 ],
 "metadata": {
  "kernelspec": {
   "display_name": "Python 3",
   "language": "python",
   "name": "python3"
  },
  "language_info": {
   "codemirror_mode": {
    "name": "ipython",
    "version": 3
   },
   "file_extension": ".py",
   "mimetype": "text/x-python",
   "name": "python",
   "nbconvert_exporter": "python",
   "pygments_lexer": "ipython3",
   "version": "3.7.4"
  }
 },
 "nbformat": 4,
 "nbformat_minor": 2
}
